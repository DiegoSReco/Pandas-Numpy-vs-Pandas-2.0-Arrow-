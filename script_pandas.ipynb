{
 "cells": [
  {
   "attachments": {},
   "cell_type": "markdown",
   "metadata": {},
   "source": [
    "## Pandas (Numpy) vs Pandas 2.0 (Pyarrow) 🐼🐍\n"
   ]
  },
  {
   "cell_type": "code",
   "execution_count": 2,
   "metadata": {},
   "outputs": [],
   "source": [
    "#Librerias\n",
    "import pandas as pd \n",
    "import numpy as np \n",
    "import pyarrow as pa\n",
    "import time\n",
    "from urllib.request import urlopen\n",
    "from zipfile import ZipFile\n",
    "from io import BytesIO\n",
    "from numpy import dtype"
   ]
  },
  {
   "cell_type": "code",
   "execution_count": 3,
   "metadata": {},
   "outputs": [
    {
     "data": {
      "text/plain": [
       "'2.0.0rc0'"
      ]
     },
     "execution_count": 3,
     "metadata": {},
     "output_type": "execute_result"
    }
   ],
   "source": [
    "#Instalamos nueva version de pandas\n",
    "#pip install --upgrade --pre pandas==2.0.0rc0\n",
    "pd.__version__\n"
   ]
  },
  {
   "cell_type": "code",
   "execution_count": 7,
   "metadata": {},
   "outputs": [],
   "source": [
    "#Descargamos datos\n",
    "\n",
    "url = \"https://www.inegi.org.mx/contenidos/programas/enoe/15ymas/microdatos/enoe_n_2022_trim4_csv.zip\"\n",
    "resp_enoe = urlopen(url)\n",
    "ZipFile(BytesIO(resp_enoe.read())).extractall()"
   ]
  },
  {
   "cell_type": "code",
   "execution_count": 6,
   "metadata": {},
   "outputs": [],
   "source": []
  },
  {
   "attachments": {},
   "cell_type": "markdown",
   "metadata": {},
   "source": [
    "### Pandas(numpy): read_csv"
   ]
  },
  {
   "cell_type": "code",
   "execution_count": 4,
   "metadata": {},
   "outputs": [
    {
     "name": "stderr",
     "output_type": "stream",
     "text": [
      "C:\\Users\\diego\\AppData\\Local\\Temp\\ipykernel_13480\\2148327799.py:3: DtypeWarning: Columns (23) have mixed types. Specify dtype option on import or set low_memory=False.\n",
      "  df_enoe1 = pd.read_csv('ENOEN_SDEMT422.csv',\n"
     ]
    },
    {
     "data": {
      "text/plain": [
       "2.3867928981781006"
      ]
     },
     "execution_count": 4,
     "metadata": {},
     "output_type": "execute_result"
    }
   ],
   "source": [
    "#Pandas read_csv \n",
    "t0 = time.time()\n",
    "df_enoe1 = pd.read_csv('ENOEN_SDEMT422.csv', \n",
    "                      encoding= 'latin-1',\n",
    "                      usecols= ['sex','ingocup','emp_ppal'] )\n",
    "\n",
    "t1 = time.time()\n",
    "\n",
    "performance_pd1= t1-t0\n",
    "performance_pd1"
   ]
  },
  {
   "cell_type": "code",
   "execution_count": 9,
   "metadata": {},
   "outputs": [
    {
     "data": {
      "text/plain": [
       "0.33231568336486816"
      ]
     },
     "execution_count": 9,
     "metadata": {},
     "output_type": "execute_result"
    }
   ],
   "source": [
    "#Pandas read_csv (pyarrow)\n",
    "pd.options.mode.dtype_backend = 'pyarrow'\n",
    "\n",
    "t0 = time.time()\n",
    "df_enoe2 = pd.read_csv('ENOEN_SDEMT422.csv', \n",
    "                      encoding= 'latin-1',\n",
    "                      usecols= ['sex','ingocup','emp_ppal'],\n",
    "                      engine='pyarrow')\n",
    "\n",
    "t1 = time.time()\n",
    "\n",
    "performance_pd2= t1-t0\n",
    "performance_pd2"
   ]
  },
  {
   "cell_type": "code",
   "execution_count": 10,
   "metadata": {},
   "outputs": [
    {
     "data": {
      "text/plain": [
       "-86.07689491541"
      ]
     },
     "execution_count": 10,
     "metadata": {},
     "output_type": "execute_result"
    }
   ],
   "source": [
    "abs((performance_pd2/performance_pd1) -1 )*100"
   ]
  },
  {
   "attachments": {},
   "cell_type": "markdown",
   "metadata": {},
   "source": [
    "## Transformación de variable, filtro, agrupamiento y cálculo de media de ingresos."
   ]
  },
  {
   "cell_type": "code",
   "execution_count": 11,
   "metadata": {},
   "outputs": [
    {
     "data": {
      "text/plain": [
       "0.5472359657287598"
      ]
     },
     "execution_count": 11,
     "metadata": {},
     "output_type": "execute_result"
    }
   ],
   "source": [
    "#Ingreso laboral promedio de mujeres y hombres\n",
    "t0 = time.time()\n",
    "df_enoe1['sexo'] = df_enoe1['sex'].map({1:'Hombre', 2:'Mujer', \n",
    "                                   '1':'Hombre', '2':'Mujer'})\n",
    "df_enoe1\\\n",
    "    .query('ingocup > 0 & sexo.notna()' )\\\n",
    "    .groupby('sexo')['ingocup']\\\n",
    "    .mean()\n",
    "t1 = time.time()\n",
    "performance_pd_group1= t1-t0\n",
    "performance_pd_group1\n"
   ]
  },
  {
   "cell_type": "code",
   "execution_count": 12,
   "metadata": {},
   "outputs": [
    {
     "data": {
      "text/plain": [
       "0.07199859619140625"
      ]
     },
     "execution_count": 12,
     "metadata": {},
     "output_type": "execute_result"
    }
   ],
   "source": [
    "#Ingreso laboral promedio de mujeres y hombres (arrow)\n",
    "t0 = time.time()\n",
    "df_enoe2['sexo'] = df_enoe2['sex'].map({1:'Hombre', 2:'Mujer', \n",
    "                                   '1':'Hombre', '2':'Mujer'})\n",
    "df_enoe2\\\n",
    "    .query('ingocup > 0 & sexo.notna()' )\\\n",
    "    .groupby('sexo')['ingocup']\\\n",
    "    .mean()\n",
    "t1 = time.time()\n",
    "performance_pd_group2= t1-t0\n",
    "performance_pd_group2\n"
   ]
  },
  {
   "cell_type": "code",
   "execution_count": 13,
   "metadata": {},
   "outputs": [
    {
     "data": {
      "text/plain": [
       "86.8432265603148"
      ]
     },
     "execution_count": 13,
     "metadata": {},
     "output_type": "execute_result"
    }
   ],
   "source": [
    "#Comparación \n",
    "abs(((performance_pd_group2/performance_pd_group1) -1 )*100)"
   ]
  },
  {
   "attachments": {},
   "cell_type": "markdown",
   "metadata": {},
   "source": [
    "## Creación de dataframes y definición de tipo de variable de forma \"manual\""
   ]
  },
  {
   "cell_type": "code",
   "execution_count": 14,
   "metadata": {},
   "outputs": [
    {
     "name": "stdout",
     "output_type": "stream",
     "text": [
      "   Ingreso\n",
      "0      0.0\n",
      "1      0.0\n",
      "2  16000.0\n",
      "3      0.0\n",
      "4      0.0\n",
      "5      0.0\n",
      "6      0.0\n",
      "7      0.0\n",
      "8      0.0\n",
      "9      0.0\n"
     ]
    }
   ],
   "source": [
    "#Ingresos float64\n",
    "df_enoe_numpy = pd.DataFrame({\n",
    "    'Ingreso' :  pd.Series(df_enoe1['ingocup'], dtype=\"float64\")})\n",
    "print(df_enoe_numpy.head(10))"
   ]
  },
  {
   "cell_type": "code",
   "execution_count": 15,
   "metadata": {},
   "outputs": [
    {
     "name": "stdout",
     "output_type": "stream",
     "text": [
      "   Ingreso\n",
      "0      0.0\n",
      "1      0.0\n",
      "2  16000.0\n",
      "3      0.0\n",
      "4      0.0\n",
      "5      0.0\n",
      "6      0.0\n",
      "7      0.0\n",
      "8      0.0\n",
      "9      0.0\n"
     ]
    }
   ],
   "source": [
    "#Ingresos float64[pyarrow]\n",
    "df_enoe_arrow= pd.DataFrame({\n",
    "    'Ingreso' :  pd.Series(df_enoe1['ingocup'], dtype ='float64[pyarrow]')})\n",
    "print(df_enoe_arrow.head(10))"
   ]
  },
  {
   "cell_type": "code",
   "execution_count": 19,
   "metadata": {},
   "outputs": [
    {
     "name": "stdout",
     "output_type": "stream",
     "text": [
      "0.0079810619\n"
     ]
    }
   ],
   "source": [
    "#Media numpy\n",
    "t0 = time.time()\n",
    "df_enoe_numpy.Ingreso.mean()\n",
    "t1 = time.time()\n",
    "performance_mean1 = t1 - t0\n",
    "print(\"{:.10f}\".format(performance_mean1))"
   ]
  },
  {
   "cell_type": "code",
   "execution_count": 23,
   "metadata": {},
   "outputs": [
    {
     "name": "stdout",
     "output_type": "stream",
     "text": [
      "0.0080070496\n"
     ]
    }
   ],
   "source": [
    "#Media  arrow\n",
    "t0 = time.time()\n",
    "df_enoe_arrow.Ingreso.mean()\n",
    "t1 = time.time()\n",
    "performance_mean2 = t1 - t0\n",
    "print(\"{:.10f}\".format(performance_mean2))\n"
   ]
  },
  {
   "cell_type": "code",
   "execution_count": 24,
   "metadata": {},
   "outputs": [
    {
     "data": {
      "text/plain": [
       "0.32561613144137525"
      ]
     },
     "execution_count": 24,
     "metadata": {},
     "output_type": "execute_result"
    }
   ],
   "source": [
    "#Comparación \n",
    "abs(((performance_mean2/performance_mean1) - 1 )*100)"
   ]
  },
  {
   "cell_type": "code",
   "execution_count": null,
   "metadata": {},
   "outputs": [],
   "source": [
    "#Tamaño de dataframes en megabytes\n",
    "# Sumar los tamaños de todas las columnas\n",
    "total_size = df_enoe_numpy.memory_usage(deep = True).sum()\n",
    "# Convertir a megabytes\n",
    "total_size_mb = total_size / 1024 / 1024\n",
    "\n",
    "print(f\"El tamaño del dataframe es de {total_size_mb:.2f} MB\")"
   ]
  }
 ],
 "metadata": {
  "kernelspec": {
   "display_name": "Python 3",
   "language": "python",
   "name": "python3"
  },
  "language_info": {
   "codemirror_mode": {
    "name": "ipython",
    "version": 3
   },
   "file_extension": ".py",
   "mimetype": "text/x-python",
   "name": "python",
   "nbconvert_exporter": "python",
   "pygments_lexer": "ipython3",
   "version": "3.10.10"
  },
  "orig_nbformat": 4
 },
 "nbformat": 4,
 "nbformat_minor": 2
}
